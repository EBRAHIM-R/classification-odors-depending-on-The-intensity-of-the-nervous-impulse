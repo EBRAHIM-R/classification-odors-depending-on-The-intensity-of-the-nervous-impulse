{
 "cells": [
  {
   "cell_type": "code",
   "execution_count": 1,
   "metadata": {},
   "outputs": [],
   "source": [
    "import pandas as pd\n",
    "from sklearn.metrics import accuracy_score\n",
    "from sklearn.model_selection import train_test_split\n",
    "from sklearn.neighbors import KNeighborsClassifier\n",
    "from sklearn.preprocessing import LabelEncoder\n",
    "from sklearn.metrics import f1_score\n",
    "from sklearn.metrics import recall_score\n",
    "from sklearn.metrics import precision_score\n",
    "from sklearn.tree import DecisionTreeClassifier"
   ]
  },
  {
   "cell_type": "code",
   "execution_count": 2,
   "metadata": {},
   "outputs": [
    {
     "data": {
      "text/html": [
       "<div>\n",
       "<style scoped>\n",
       "    .dataframe tbody tr th:only-of-type {\n",
       "        vertical-align: middle;\n",
       "    }\n",
       "\n",
       "    .dataframe tbody tr th {\n",
       "        vertical-align: top;\n",
       "    }\n",
       "\n",
       "    .dataframe thead th {\n",
       "        text-align: right;\n",
       "    }\n",
       "</style>\n",
       "<table border=\"1\" class=\"dataframe\">\n",
       "  <thead>\n",
       "    <tr style=\"text-align: right;\">\n",
       "      <th></th>\n",
       "      <th>odor</th>\n",
       "      <th>sens</th>\n",
       "      <th>intensity</th>\n",
       "    </tr>\n",
       "  </thead>\n",
       "  <tbody>\n",
       "    <tr>\n",
       "      <th>0</th>\n",
       "      <td>ajayeb</td>\n",
       "      <td>x32</td>\n",
       "      <td>64522</td>\n",
       "    </tr>\n",
       "    <tr>\n",
       "      <th>1</th>\n",
       "      <td>ajmal</td>\n",
       "      <td>x8</td>\n",
       "      <td>40510</td>\n",
       "    </tr>\n",
       "    <tr>\n",
       "      <th>2</th>\n",
       "      <td>amreaj</td>\n",
       "      <td>x31</td>\n",
       "      <td>58033</td>\n",
       "    </tr>\n",
       "    <tr>\n",
       "      <th>3</th>\n",
       "      <td>aood</td>\n",
       "      <td>x26</td>\n",
       "      <td>72103</td>\n",
       "    </tr>\n",
       "    <tr>\n",
       "      <th>4</th>\n",
       "      <td>ajayeb</td>\n",
       "      <td>x1</td>\n",
       "      <td>64558</td>\n",
       "    </tr>\n",
       "    <tr>\n",
       "      <th>5</th>\n",
       "      <td>amreaj</td>\n",
       "      <td>x4</td>\n",
       "      <td>58041</td>\n",
       "    </tr>\n",
       "    <tr>\n",
       "      <th>6</th>\n",
       "      <td>ajmal</td>\n",
       "      <td>x10</td>\n",
       "      <td>60487</td>\n",
       "    </tr>\n",
       "    <tr>\n",
       "      <th>7</th>\n",
       "      <td>ajayeb</td>\n",
       "      <td>x2</td>\n",
       "      <td>64556</td>\n",
       "    </tr>\n",
       "    <tr>\n",
       "      <th>8</th>\n",
       "      <td>amreaj</td>\n",
       "      <td>x9</td>\n",
       "      <td>38900</td>\n",
       "    </tr>\n",
       "    <tr>\n",
       "      <th>9</th>\n",
       "      <td>ajmal</td>\n",
       "      <td>x15</td>\n",
       "      <td>60528</td>\n",
       "    </tr>\n",
       "  </tbody>\n",
       "</table>\n",
       "</div>"
      ],
      "text/plain": [
       "     odor sens  intensity\n",
       "0  ajayeb  x32      64522\n",
       "1   ajmal   x8      40510\n",
       "2  amreaj  x31      58033\n",
       "3    aood  x26      72103\n",
       "4  ajayeb   x1      64558\n",
       "5  amreaj   x4      58041\n",
       "6   ajmal  x10      60487\n",
       "7  ajayeb   x2      64556\n",
       "8  amreaj   x9      38900\n",
       "9   ajmal  x15      60528"
      ]
     },
     "execution_count": 2,
     "metadata": {},
     "output_type": "execute_result"
    }
   ],
   "source": [
    "# read_csv\n",
    "df = pd.read_csv(\"dataset/odors intnsity.csv\")\n",
    "\n",
    "# show the first ten roows\n",
    "df.head(10)"
   ]
  },
  {
   "cell_type": "code",
   "execution_count": 3,
   "metadata": {},
   "outputs": [
    {
     "name": "stdout",
     "output_type": "stream",
     "text": [
      "the sum of null values in dataset befor handling missing values:\n",
      "odor         0\n",
      "sens         0\n",
      "intensity    0\n",
      "dtype: int64\n",
      "**************************************************\n",
      "the sum of null values in dataset after handling missing values:\n",
      "odor         0\n",
      "sens         0\n",
      "intensity    0\n",
      "dtype: int64\n"
     ]
    }
   ],
   "source": [
    "# Remove missing values from dataset\n",
    "\n",
    "# print number missing value before handling in each column\n",
    "print(\"the sum of null values in dataset befor handling missing values:\")\n",
    "print(df.isnull().sum()) \n",
    "\n",
    "# drop missing values from dataset\n",
    "df = df.dropna(axis=0) # remove rows that contain missing value\n",
    "print(\"*\" * 50)\n",
    "\n",
    "# print number missing value after handling in each column\n",
    "print(\"the sum of null values in dataset after handling missing values:\")\n",
    "print(df.isnull().sum())\n"
   ]
  },
  {
   "cell_type": "code",
   "execution_count": 4,
   "metadata": {},
   "outputs": [
    {
     "name": "stdout",
     "output_type": "stream",
     "text": [
      "the shape of dataset befor remove duplicated rows is: (160, 3)\n",
      "the shape of dataset after remove duplicated rows is: (160, 3)\n",
      "number of rows that is removed is: 0\n"
     ]
    }
   ],
   "source": [
    "# remove duplicated rows\n",
    "\n",
    "# remove duplicated rows fom dataset\n",
    "df_duplicates_removed = df.drop_duplicates()\n",
    "\n",
    "print(\"the shape of dataset befor remove duplicated rows is: {}\".format(df.shape))\n",
    "print(\"the shape of dataset after remove duplicated rows is: {}\".format(df_duplicates_removed.shape))\n",
    "print(\"number of rows that is removed is: {}\".format(df.shape[0] - df_duplicates_removed.shape[0]))"
   ]
  },
  {
   "cell_type": "code",
   "execution_count": 5,
   "metadata": {},
   "outputs": [
    {
     "name": "stdout",
     "output_type": "stream",
     "text": [
      "array of correlation between features is:\n",
      "the correlated features that greater than 0.8 and less than -0.8 is: set()\n"
     ]
    }
   ],
   "source": [
    "# show correlated attributes \n",
    "correlated_features1 = set()\n",
    "correlated_features2 = set()\n",
    "\n",
    "\n",
    "# the matrix that represent correlation\n",
    "correlation_matrix = df.corr()\n",
    "\n",
    "# show correlation matrix\n",
    "print(\"array of correlation between features is:\")\n",
    "#print(correlation_matrix)\n",
    "\n",
    "# put features correlated bigger than 0.8 and less than -0.8 in two sets\n",
    "for i in range(len(correlation_matrix.columns)):\n",
    "    for j in range(i):\n",
    "        if correlation_matrix.iloc[i, j] > 0.8:\n",
    "            colname = correlation_matrix.columns[i]\n",
    "            correlated_features1.add(colname)\n",
    "        elif correlation_matrix.iloc[i, j] < -0.8:\n",
    "            colname = correlation_matrix.columns[i]\n",
    "            correlated_features2.add(colname)\n",
    "            \n",
    "# combination two sets in one set            \n",
    "correlated_features1.update(correlated_features2)\n",
    "\n",
    "# show features that correlated greater than 0.8 and less than -0.8\n",
    "print(\"the correlated features that greater than 0.8 and less than -0.8 is: {}\".format(correlated_features1))"
   ]
  },
  {
   "cell_type": "code",
   "execution_count": 6,
   "metadata": {},
   "outputs": [
    {
     "name": "stdout",
     "output_type": "stream",
     "text": [
      "this data after converting:\n"
     ]
    },
    {
     "data": {
      "text/html": [
       "<div>\n",
       "<style scoped>\n",
       "    .dataframe tbody tr th:only-of-type {\n",
       "        vertical-align: middle;\n",
       "    }\n",
       "\n",
       "    .dataframe tbody tr th {\n",
       "        vertical-align: top;\n",
       "    }\n",
       "\n",
       "    .dataframe thead th {\n",
       "        text-align: right;\n",
       "    }\n",
       "</style>\n",
       "<table border=\"1\" class=\"dataframe\">\n",
       "  <thead>\n",
       "    <tr style=\"text-align: right;\">\n",
       "      <th></th>\n",
       "      <th>odor</th>\n",
       "      <th>sens</th>\n",
       "      <th>intensity</th>\n",
       "    </tr>\n",
       "  </thead>\n",
       "  <tbody>\n",
       "    <tr>\n",
       "      <th>0</th>\n",
       "      <td>0</td>\n",
       "      <td>25</td>\n",
       "      <td>64522</td>\n",
       "    </tr>\n",
       "    <tr>\n",
       "      <th>1</th>\n",
       "      <td>1</td>\n",
       "      <td>38</td>\n",
       "      <td>40510</td>\n",
       "    </tr>\n",
       "    <tr>\n",
       "      <th>2</th>\n",
       "      <td>2</td>\n",
       "      <td>24</td>\n",
       "      <td>58033</td>\n",
       "    </tr>\n",
       "    <tr>\n",
       "      <th>3</th>\n",
       "      <td>3</td>\n",
       "      <td>18</td>\n",
       "      <td>72103</td>\n",
       "    </tr>\n",
       "    <tr>\n",
       "      <th>4</th>\n",
       "      <td>0</td>\n",
       "      <td>0</td>\n",
       "      <td>64558</td>\n",
       "    </tr>\n",
       "    <tr>\n",
       "      <th>5</th>\n",
       "      <td>2</td>\n",
       "      <td>33</td>\n",
       "      <td>58041</td>\n",
       "    </tr>\n",
       "    <tr>\n",
       "      <th>6</th>\n",
       "      <td>1</td>\n",
       "      <td>1</td>\n",
       "      <td>60487</td>\n",
       "    </tr>\n",
       "    <tr>\n",
       "      <th>7</th>\n",
       "      <td>0</td>\n",
       "      <td>11</td>\n",
       "      <td>64556</td>\n",
       "    </tr>\n",
       "    <tr>\n",
       "      <th>8</th>\n",
       "      <td>2</td>\n",
       "      <td>39</td>\n",
       "      <td>38900</td>\n",
       "    </tr>\n",
       "    <tr>\n",
       "      <th>9</th>\n",
       "      <td>1</td>\n",
       "      <td>6</td>\n",
       "      <td>60528</td>\n",
       "    </tr>\n",
       "  </tbody>\n",
       "</table>\n",
       "</div>"
      ],
      "text/plain": [
       "   odor  sens  intensity\n",
       "0     0    25      64522\n",
       "1     1    38      40510\n",
       "2     2    24      58033\n",
       "3     3    18      72103\n",
       "4     0     0      64558\n",
       "5     2    33      58041\n",
       "6     1     1      60487\n",
       "7     0    11      64556\n",
       "8     2    39      38900\n",
       "9     1     6      60528"
      ]
     },
     "execution_count": 6,
     "metadata": {},
     "output_type": "execute_result"
    }
   ],
   "source": [
    "# convert categorical features to numerical\n",
    "df[\"intensity\"] = pd.to_numeric(df[\"intensity\"])\n",
    "\n",
    "# Creating a instance of label Encoder.\n",
    "le = LabelEncoder()\n",
    "\n",
    "# creating list that contain catefories features\n",
    "categories = [\"odor\", \"sens\"]\n",
    "\n",
    "\n",
    "# apply LabelEncoder on all categorical features\n",
    "for item in categories:\n",
    "    label = le.fit_transform(df[item])\n",
    "    df[item] = label\n",
    "\n",
    "\n",
    "\n",
    "\n",
    "# show data after that\n",
    "print(\"this data after converting:\")\n",
    "df.head(10)\n"
   ]
  },
  {
   "cell_type": "code",
   "execution_count": 7,
   "metadata": {},
   "outputs": [
    {
     "data": {
      "text/plain": [
       "odor         int32\n",
       "sens         int32\n",
       "intensity    int64\n",
       "dtype: object"
      ]
     },
     "execution_count": 7,
     "metadata": {},
     "output_type": "execute_result"
    }
   ],
   "source": [
    "# show types of features\n",
    "df.dtypes"
   ]
  },
  {
   "cell_type": "code",
   "execution_count": 8,
   "metadata": {},
   "outputs": [
    {
     "name": "stdout",
     "output_type": "stream",
     "text": [
      "shape of X_train: (112, 2)\n",
      "shape of y_train: (112,)\n",
      "shape of X_test: (48, 2)\n",
      "shape of y_train: (48,)\n"
     ]
    }
   ],
   "source": [
    "# splitting dataset to training data and testing data\n",
    "\n",
    "# target column\n",
    "target_col = \"odor\"\n",
    "\n",
    "# X_train dataset\n",
    "X_train = df.drop(columns=target_col)\n",
    "\n",
    "# y_train dataset contains one feature (\"price\" only)\n",
    "y_train = df.loc[:, target_col]\n",
    "\n",
    "# split dataset with 70% training data and 30% testing data\n",
    "X_train, X_test, y_train, y_test = train_test_split(X_train, y_train, test_size = 0.3, random_state = 0) \n",
    "\n",
    "# print the shape for each dataset \n",
    "print(f\"shape of X_train: {X_train.shape}\")\n",
    "print(f\"shape of y_train: {y_train.shape}\")\n",
    "print(f\"shape of X_test: {X_test.shape}\")\n",
    "print(f\"shape of y_train: {y_test.shape}\")"
   ]
  },
  {
   "cell_type": "code",
   "execution_count": 9,
   "metadata": {},
   "outputs": [
    {
     "name": "stdout",
     "output_type": "stream",
     "text": [
      "Accuracy: 97.91666666666666\n",
      "Precision: 100.0\n",
      "Recall: 97.91666666666666\n",
      "F-Measure: 97.91666666666666\n"
     ]
    }
   ],
   "source": [
    "# K-Neighbors Algorithm\n",
    "# Application of kneighbors algorithm in classification\n",
    "\n",
    "neigh=KNeighborsClassifier()\n",
    "neigh.fit(X_train,y_train)\n",
    "\n",
    "# Calculate the expected value for y_pred\n",
    "y_pred_neigh = neigh.predict(X_test)\n",
    "\n",
    "# Calculate the accuracy of the application of the kneighbors algorithm\n",
    "Accuracy = accuracy_score(y_pred_neigh,y_test)\n",
    "print(\"Accuracy: {}\".format(Accuracy * 100))\n",
    "\n",
    "# calculate precision for kneighbors algorithm\n",
    "# precision is: tp / (tp + fp)\n",
    "precision = precision_score(y_test, y_pred_neigh, labels=[1,2], average='micro')\n",
    "print('Precision: {}'.format(precision * 100))\n",
    "\n",
    "# calculate recall for kneighbors algorithm\n",
    "# recall is: tp / (tp + fn)\n",
    "recall = recall_score(y_test, y_pred_neigh, average='micro')\n",
    "print('Recall: {}'.format(recall * 100))\n",
    "\n",
    "# calculate f1_score for kneighbors algorithm\n",
    "# f1_score is: 2*tp / (2*tp + fp + fn)\n",
    "score = f1_score(y_test, y_pred_neigh, average='micro')\n",
    "print('F-Measure: {}'.format(score * 100))"
   ]
  },
  {
   "cell_type": "code",
   "execution_count": 10,
   "metadata": {},
   "outputs": [
    {
     "name": "stdout",
     "output_type": "stream",
     "text": [
      "Accuracy: 95.83333333333334\n",
      "Precision: 95.83333333333334\n",
      "Recall: 95.83333333333334\n",
      "F-Measure: 95.83333333333334\n"
     ]
    }
   ],
   "source": [
    "#Application of DecisionTree algorithm in classification\n",
    "tree=DecisionTreeClassifier()\n",
    "tree.fit(X_train,y_train)\n",
    "\n",
    "#Calculate the expected value for y_pred\n",
    "y_pred_tree = tree.predict(X_test)\n",
    "\n",
    "#Calculate the accuracy of the application of the DecisionTree algorithm\n",
    "Accuracy = accuracy_score(y_pred_tree,y_test)\n",
    "print(\"Accuracy: {}\".format(Accuracy * 100))\n",
    "\n",
    "# calculate precision for DecisionTree algorithm\n",
    "# precision is: tp / (tp + fp)\n",
    "precision = precision_score(y_test, y_pred_tree, labels=[1,2], average='micro')\n",
    "print('Precision: {}'.format(precision * 100))\n",
    "\n",
    "# calculate recall for DecisionTree algorithm\n",
    "# recall is: tp / (tp + fn)\n",
    "recall = recall_score(y_test, y_pred_tree, average='micro')\n",
    "print('Recall: {}'.format(recall * 100))\n",
    "\n",
    "# calculate f1_score for DecisionTree algorithm\n",
    "# f1_score is: 2*tp / (2*tp + fp + fn)\n",
    "score = f1_score(y_test, y_pred_tree, average='micro')\n",
    "print('F-Measure: {}'.format(score * 100))"
   ]
  },
  {
   "cell_type": "code",
   "execution_count": null,
   "metadata": {},
   "outputs": [],
   "source": []
  }
 ],
 "metadata": {
  "kernelspec": {
   "display_name": "Python 3",
   "language": "python",
   "name": "python3"
  },
  "language_info": {
   "codemirror_mode": {
    "name": "ipython",
    "version": 3
   },
   "file_extension": ".py",
   "mimetype": "text/x-python",
   "name": "python",
   "nbconvert_exporter": "python",
   "pygments_lexer": "ipython3",
   "version": "3.7.6"
  }
 },
 "nbformat": 4,
 "nbformat_minor": 4
}
